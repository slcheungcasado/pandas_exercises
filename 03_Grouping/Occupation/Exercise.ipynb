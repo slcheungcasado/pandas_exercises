{
 "cells": [
  {
   "cell_type": "markdown",
   "metadata": {},
   "source": [
    "# Occupation"
   ]
  },
  {
   "cell_type": "markdown",
   "metadata": {},
   "source": [
    "### Introduction:\n",
    "\n",
    "Special thanks to: https://github.com/justmarkham for sharing the dataset and materials.\n",
    "\n",
    "### Step 1. Import the necessary libraries"
   ]
  },
  {
   "cell_type": "code",
   "execution_count": 1,
   "metadata": {},
   "outputs": [],
   "source": [
    "import pandas as pd"
   ]
  },
  {
   "cell_type": "markdown",
   "metadata": {},
   "source": [
    "### Step 2. Import the dataset from this [address](https://raw.githubusercontent.com/justmarkham/DAT8/master/data/u.user). "
   ]
  },
  {
   "cell_type": "markdown",
   "metadata": {},
   "source": [
    "### Step 3. Assign it to a variable called users."
   ]
  },
  {
   "cell_type": "code",
   "execution_count": 2,
   "metadata": {},
   "outputs": [
    {
     "data": {
      "text/html": "<div>\n<style scoped>\n    .dataframe tbody tr th:only-of-type {\n        vertical-align: middle;\n    }\n\n    .dataframe tbody tr th {\n        vertical-align: top;\n    }\n\n    .dataframe thead th {\n        text-align: right;\n    }\n</style>\n<table border=\"1\" class=\"dataframe\">\n  <thead>\n    <tr style=\"text-align: right;\">\n      <th></th>\n      <th>age</th>\n      <th>gender</th>\n      <th>occupation</th>\n      <th>zip_code</th>\n    </tr>\n    <tr>\n      <th>user_id</th>\n      <th></th>\n      <th></th>\n      <th></th>\n      <th></th>\n    </tr>\n  </thead>\n  <tbody>\n    <tr>\n      <th>1</th>\n      <td>24</td>\n      <td>M</td>\n      <td>technician</td>\n      <td>85711</td>\n    </tr>\n    <tr>\n      <th>2</th>\n      <td>53</td>\n      <td>F</td>\n      <td>other</td>\n      <td>94043</td>\n    </tr>\n    <tr>\n      <th>3</th>\n      <td>23</td>\n      <td>M</td>\n      <td>writer</td>\n      <td>32067</td>\n    </tr>\n    <tr>\n      <th>4</th>\n      <td>24</td>\n      <td>M</td>\n      <td>technician</td>\n      <td>43537</td>\n    </tr>\n    <tr>\n      <th>5</th>\n      <td>33</td>\n      <td>F</td>\n      <td>other</td>\n      <td>15213</td>\n    </tr>\n  </tbody>\n</table>\n</div>",
      "text/plain": "         age gender  occupation zip_code\nuser_id                                 \n1         24      M  technician    85711\n2         53      F       other    94043\n3         23      M      writer    32067\n4         24      M  technician    43537\n5         33      F       other    15213"
     },
     "execution_count": 2,
     "metadata": {},
     "output_type": "execute_result"
    }
   ],
   "source": [
    "url = 'https://raw.githubusercontent.com/justmarkham/DAT8/master/data/u.user'\n",
    "users = pd.read_csv(url, sep='|', index_col='user_id')\n",
    "users.head()"
   ]
  },
  {
   "cell_type": "markdown",
   "metadata": {},
   "source": [
    "### Step 4. Discover what is the mean age per occupation"
   ]
  },
  {
   "cell_type": "code",
   "execution_count": 3,
   "metadata": {},
   "outputs": [
    {
     "data": {
      "text/plain": "occupation\nadministrator    38.746835\nartist           31.392857\ndoctor           43.571429\neducator         42.010526\nengineer         36.388060\nentertainment    29.222222\nexecutive        38.718750\nhealthcare       41.562500\nhomemaker        32.571429\nlawyer           36.750000\nlibrarian        40.000000\nmarketing        37.615385\nnone             26.555556\nother            34.523810\nprogrammer       33.121212\nretired          63.071429\nsalesman         35.666667\nscientist        35.548387\nstudent          22.081633\ntechnician       33.148148\nwriter           36.311111\nName: age, dtype: float64"
     },
     "execution_count": 3,
     "metadata": {},
     "output_type": "execute_result"
    }
   ],
   "source": [
    "users.groupby('occupation')['age'].mean()"
   ]
  },
  {
   "cell_type": "markdown",
   "metadata": {},
   "source": [
    "### Step 5. Discover the Male ratio per occupation and sort it from the most to the least"
   ]
  },
  {
   "cell_type": "code",
   "execution_count": 8,
   "metadata": {},
   "outputs": [
    {
     "data": {
      "text/html": "<div>\n<style scoped>\n    .dataframe tbody tr th:only-of-type {\n        vertical-align: middle;\n    }\n\n    .dataframe tbody tr th {\n        vertical-align: top;\n    }\n\n    .dataframe thead th {\n        text-align: right;\n    }\n</style>\n<table border=\"1\" class=\"dataframe\">\n  <thead>\n    <tr style=\"text-align: right;\">\n      <th></th>\n      <th>age</th>\n      <th>gender</th>\n      <th>occupation</th>\n      <th>zip_code</th>\n      <th>gender_n</th>\n    </tr>\n    <tr>\n      <th>user_id</th>\n      <th></th>\n      <th></th>\n      <th></th>\n      <th></th>\n      <th></th>\n    </tr>\n  </thead>\n  <tbody>\n    <tr>\n      <th>1</th>\n      <td>24</td>\n      <td>M</td>\n      <td>technician</td>\n      <td>85711</td>\n      <td>1</td>\n    </tr>\n    <tr>\n      <th>2</th>\n      <td>53</td>\n      <td>F</td>\n      <td>other</td>\n      <td>94043</td>\n      <td>0</td>\n    </tr>\n    <tr>\n      <th>3</th>\n      <td>23</td>\n      <td>M</td>\n      <td>writer</td>\n      <td>32067</td>\n      <td>1</td>\n    </tr>\n    <tr>\n      <th>4</th>\n      <td>24</td>\n      <td>M</td>\n      <td>technician</td>\n      <td>43537</td>\n      <td>1</td>\n    </tr>\n    <tr>\n      <th>5</th>\n      <td>33</td>\n      <td>F</td>\n      <td>other</td>\n      <td>15213</td>\n      <td>0</td>\n    </tr>\n    <tr>\n      <th>...</th>\n      <td>...</td>\n      <td>...</td>\n      <td>...</td>\n      <td>...</td>\n      <td>...</td>\n    </tr>\n    <tr>\n      <th>939</th>\n      <td>26</td>\n      <td>F</td>\n      <td>student</td>\n      <td>33319</td>\n      <td>0</td>\n    </tr>\n    <tr>\n      <th>940</th>\n      <td>32</td>\n      <td>M</td>\n      <td>administrator</td>\n      <td>02215</td>\n      <td>1</td>\n    </tr>\n    <tr>\n      <th>941</th>\n      <td>20</td>\n      <td>M</td>\n      <td>student</td>\n      <td>97229</td>\n      <td>1</td>\n    </tr>\n    <tr>\n      <th>942</th>\n      <td>48</td>\n      <td>F</td>\n      <td>librarian</td>\n      <td>78209</td>\n      <td>0</td>\n    </tr>\n    <tr>\n      <th>943</th>\n      <td>22</td>\n      <td>M</td>\n      <td>student</td>\n      <td>77841</td>\n      <td>1</td>\n    </tr>\n  </tbody>\n</table>\n<p>943 rows × 5 columns</p>\n</div>",
      "text/plain": "         age gender     occupation zip_code  gender_n\nuser_id                                              \n1         24      M     technician    85711         1\n2         53      F          other    94043         0\n3         23      M         writer    32067         1\n4         24      M     technician    43537         1\n5         33      F          other    15213         0\n...      ...    ...            ...      ...       ...\n939       26      F        student    33319         0\n940       32      M  administrator    02215         1\n941       20      M        student    97229         1\n942       48      F      librarian    78209         0\n943       22      M        student    77841         1\n\n[943 rows x 5 columns]"
     },
     "execution_count": 8,
     "metadata": {},
     "output_type": "execute_result"
    }
   ],
   "source": [
    "gender_mapper = {'M': 1, 'F': 0}\n",
    "users['gender_n'] = users['gender'].map(gender_mapper)\n",
    "users"
   ]
  },
  {
   "cell_type": "code",
   "execution_count": 11,
   "metadata": {},
   "outputs": [
    {
     "data": {
      "text/plain": "doctor           100.000000\nengineer          97.014925\ntechnician        96.296296\nretired           92.857143\nprogrammer        90.909091\nexecutive         90.625000\nscientist         90.322581\nentertainment     88.888889\nlawyer            83.333333\nsalesman          75.000000\neducator          72.631579\nstudent           69.387755\nother             65.714286\nmarketing         61.538462\nwriter            57.777778\nnone              55.555556\nadministrator     54.430380\nartist            53.571429\nlibrarian         43.137255\nhealthcare        31.250000\nhomemaker         14.285714\ndtype: float64"
     },
     "execution_count": 11,
     "metadata": {},
     "output_type": "execute_result"
    }
   ],
   "source": [
    "a = users.groupby('occupation')['gender_n'].sum() / users['occupation'].value_counts() * 100\n",
    "a.sort_values(ascending = False)"
   ]
  },
  {
   "cell_type": "code",
   "execution_count": 12,
   "metadata": {},
   "outputs": [
    {
     "data": {
      "text/plain": "occupation\ndoctor           100.000000\nhomemaker         85.714286\nhealthcare        68.750000\nlibrarian         56.862745\nartist            46.428571\nadministrator     45.569620\nnone              44.444444\nwriter            42.222222\nmarketing         38.461538\nother             34.285714\nstudent           30.612245\neducator          27.368421\nsalesman          25.000000\nlawyer            16.666667\nentertainment     11.111111\nscientist          9.677419\nexecutive          9.375000\nprogrammer         9.090909\nretired            7.142857\ntechnician         3.703704\nengineer           2.985075\nName: freq, dtype: float64"
     },
     "execution_count": 12,
     "metadata": {},
     "output_type": "execute_result"
    }
   ],
   "source": [
    "users.groupby(['occupation', 'gender']).count().groupby('occupation').apply(lambda x: x.iloc[0]/(x.iloc[0] + x.iloc[1]) if len(x) > 1 else x.iloc[0]/x.iloc[0])['age'].rename('freq').sort_values(ascending=False)*100"
   ]
  },
  {
   "cell_type": "markdown",
   "metadata": {},
   "source": [
    "### Step 6. For each occupation, calculate the minimum and maximum ages"
   ]
  },
  {
   "cell_type": "code",
   "execution_count": 5,
   "metadata": {},
   "outputs": [
    {
     "data": {
      "text/html": "<div>\n<style scoped>\n    .dataframe tbody tr th:only-of-type {\n        vertical-align: middle;\n    }\n\n    .dataframe tbody tr th {\n        vertical-align: top;\n    }\n\n    .dataframe thead th {\n        text-align: right;\n    }\n</style>\n<table border=\"1\" class=\"dataframe\">\n  <thead>\n    <tr style=\"text-align: right;\">\n      <th></th>\n      <th>min</th>\n      <th>max</th>\n    </tr>\n    <tr>\n      <th>occupation</th>\n      <th></th>\n      <th></th>\n    </tr>\n  </thead>\n  <tbody>\n    <tr>\n      <th>administrator</th>\n      <td>21</td>\n      <td>70</td>\n    </tr>\n    <tr>\n      <th>artist</th>\n      <td>19</td>\n      <td>48</td>\n    </tr>\n    <tr>\n      <th>doctor</th>\n      <td>28</td>\n      <td>64</td>\n    </tr>\n    <tr>\n      <th>educator</th>\n      <td>23</td>\n      <td>63</td>\n    </tr>\n    <tr>\n      <th>engineer</th>\n      <td>22</td>\n      <td>70</td>\n    </tr>\n    <tr>\n      <th>entertainment</th>\n      <td>15</td>\n      <td>50</td>\n    </tr>\n    <tr>\n      <th>executive</th>\n      <td>22</td>\n      <td>69</td>\n    </tr>\n    <tr>\n      <th>healthcare</th>\n      <td>22</td>\n      <td>62</td>\n    </tr>\n    <tr>\n      <th>homemaker</th>\n      <td>20</td>\n      <td>50</td>\n    </tr>\n    <tr>\n      <th>lawyer</th>\n      <td>21</td>\n      <td>53</td>\n    </tr>\n    <tr>\n      <th>librarian</th>\n      <td>23</td>\n      <td>69</td>\n    </tr>\n    <tr>\n      <th>marketing</th>\n      <td>24</td>\n      <td>55</td>\n    </tr>\n    <tr>\n      <th>none</th>\n      <td>11</td>\n      <td>55</td>\n    </tr>\n    <tr>\n      <th>other</th>\n      <td>13</td>\n      <td>64</td>\n    </tr>\n    <tr>\n      <th>programmer</th>\n      <td>20</td>\n      <td>63</td>\n    </tr>\n    <tr>\n      <th>retired</th>\n      <td>51</td>\n      <td>73</td>\n    </tr>\n    <tr>\n      <th>salesman</th>\n      <td>18</td>\n      <td>66</td>\n    </tr>\n    <tr>\n      <th>scientist</th>\n      <td>23</td>\n      <td>55</td>\n    </tr>\n    <tr>\n      <th>student</th>\n      <td>7</td>\n      <td>42</td>\n    </tr>\n    <tr>\n      <th>technician</th>\n      <td>21</td>\n      <td>55</td>\n    </tr>\n    <tr>\n      <th>writer</th>\n      <td>18</td>\n      <td>60</td>\n    </tr>\n  </tbody>\n</table>\n</div>",
      "text/plain": "               min  max\noccupation             \nadministrator   21   70\nartist          19   48\ndoctor          28   64\neducator        23   63\nengineer        22   70\nentertainment   15   50\nexecutive       22   69\nhealthcare      22   62\nhomemaker       20   50\nlawyer          21   53\nlibrarian       23   69\nmarketing       24   55\nnone            11   55\nother           13   64\nprogrammer      20   63\nretired         51   73\nsalesman        18   66\nscientist       23   55\nstudent          7   42\ntechnician      21   55\nwriter          18   60"
     },
     "execution_count": 5,
     "metadata": {},
     "output_type": "execute_result"
    }
   ],
   "source": [
    "users.groupby('occupation')['age'].agg(['min', 'max'])"
   ]
  },
  {
   "cell_type": "markdown",
   "metadata": {},
   "source": [
    "### Step 7. For each combination of occupation and gender, calculate the mean age"
   ]
  },
  {
   "cell_type": "code",
   "execution_count": 13,
   "metadata": {},
   "outputs": [
    {
     "data": {
      "text/plain": "occupation     gender\nadministrator  F         41\n               M         37\nartist         F         30\n               M         32\ndoctor         M         44\neducator       F         39\n               M         43\nengineer       F         30\n               M         37\nentertainment  F         31\n               M         29\nexecutive      F         44\n               M         38\nhealthcare     F         40\n               M         45\nhomemaker      F         34\n               M         23\nlawyer         F         40\n               M         36\nlibrarian      F         40\n               M         40\nmarketing      F         37\n               M         38\nnone           F         36\n               M         19\nother          F         35\n               M         34\nprogrammer     F         32\n               M         33\nretired        F         70\n               M         63\nsalesman       F         27\n               M         39\nscientist      F         28\n               M         36\nstudent        F         21\n               M         23\ntechnician     F         38\n               M         33\nwriter         F         38\n               M         35\nName: age, dtype: int64"
     },
     "execution_count": 13,
     "metadata": {},
     "output_type": "execute_result"
    }
   ],
   "source": [
    "users.groupby(['occupation', 'gender'])['age'].mean().apply(lambda x: round(x))"
   ]
  },
  {
   "cell_type": "code",
   "execution_count": 16,
   "metadata": {},
   "outputs": [
    {
     "data": {
      "text/html": "<div>\n<style scoped>\n    .dataframe tbody tr th:only-of-type {\n        vertical-align: middle;\n    }\n\n    .dataframe tbody tr th {\n        vertical-align: top;\n    }\n\n    .dataframe thead th {\n        text-align: right;\n    }\n</style>\n<table border=\"1\" class=\"dataframe\">\n  <thead>\n    <tr style=\"text-align: right;\">\n      <th></th>\n      <th></th>\n      <th>mean</th>\n    </tr>\n    <tr>\n      <th>occupation</th>\n      <th>gender</th>\n      <th></th>\n    </tr>\n  </thead>\n  <tbody>\n    <tr>\n      <th rowspan=\"2\" valign=\"top\">administrator</th>\n      <th>F</th>\n      <td>41.0</td>\n    </tr>\n    <tr>\n      <th>M</th>\n      <td>37.0</td>\n    </tr>\n    <tr>\n      <th rowspan=\"2\" valign=\"top\">artist</th>\n      <th>F</th>\n      <td>30.0</td>\n    </tr>\n    <tr>\n      <th>M</th>\n      <td>32.0</td>\n    </tr>\n    <tr>\n      <th>doctor</th>\n      <th>M</th>\n      <td>44.0</td>\n    </tr>\n    <tr>\n      <th rowspan=\"2\" valign=\"top\">educator</th>\n      <th>F</th>\n      <td>39.0</td>\n    </tr>\n    <tr>\n      <th>M</th>\n      <td>43.0</td>\n    </tr>\n    <tr>\n      <th rowspan=\"2\" valign=\"top\">engineer</th>\n      <th>F</th>\n      <td>30.0</td>\n    </tr>\n    <tr>\n      <th>M</th>\n      <td>37.0</td>\n    </tr>\n    <tr>\n      <th rowspan=\"2\" valign=\"top\">entertainment</th>\n      <th>F</th>\n      <td>31.0</td>\n    </tr>\n    <tr>\n      <th>M</th>\n      <td>29.0</td>\n    </tr>\n    <tr>\n      <th rowspan=\"2\" valign=\"top\">executive</th>\n      <th>F</th>\n      <td>44.0</td>\n    </tr>\n    <tr>\n      <th>M</th>\n      <td>38.0</td>\n    </tr>\n    <tr>\n      <th rowspan=\"2\" valign=\"top\">healthcare</th>\n      <th>F</th>\n      <td>40.0</td>\n    </tr>\n    <tr>\n      <th>M</th>\n      <td>45.0</td>\n    </tr>\n    <tr>\n      <th rowspan=\"2\" valign=\"top\">homemaker</th>\n      <th>F</th>\n      <td>34.0</td>\n    </tr>\n    <tr>\n      <th>M</th>\n      <td>23.0</td>\n    </tr>\n    <tr>\n      <th rowspan=\"2\" valign=\"top\">lawyer</th>\n      <th>F</th>\n      <td>40.0</td>\n    </tr>\n    <tr>\n      <th>M</th>\n      <td>36.0</td>\n    </tr>\n    <tr>\n      <th rowspan=\"2\" valign=\"top\">librarian</th>\n      <th>F</th>\n      <td>40.0</td>\n    </tr>\n    <tr>\n      <th>M</th>\n      <td>40.0</td>\n    </tr>\n    <tr>\n      <th rowspan=\"2\" valign=\"top\">marketing</th>\n      <th>F</th>\n      <td>37.0</td>\n    </tr>\n    <tr>\n      <th>M</th>\n      <td>38.0</td>\n    </tr>\n    <tr>\n      <th rowspan=\"2\" valign=\"top\">none</th>\n      <th>F</th>\n      <td>36.0</td>\n    </tr>\n    <tr>\n      <th>M</th>\n      <td>19.0</td>\n    </tr>\n    <tr>\n      <th rowspan=\"2\" valign=\"top\">other</th>\n      <th>F</th>\n      <td>35.0</td>\n    </tr>\n    <tr>\n      <th>M</th>\n      <td>34.0</td>\n    </tr>\n    <tr>\n      <th rowspan=\"2\" valign=\"top\">programmer</th>\n      <th>F</th>\n      <td>32.0</td>\n    </tr>\n    <tr>\n      <th>M</th>\n      <td>33.0</td>\n    </tr>\n    <tr>\n      <th rowspan=\"2\" valign=\"top\">retired</th>\n      <th>F</th>\n      <td>70.0</td>\n    </tr>\n    <tr>\n      <th>M</th>\n      <td>63.0</td>\n    </tr>\n    <tr>\n      <th rowspan=\"2\" valign=\"top\">salesman</th>\n      <th>F</th>\n      <td>27.0</td>\n    </tr>\n    <tr>\n      <th>M</th>\n      <td>39.0</td>\n    </tr>\n    <tr>\n      <th rowspan=\"2\" valign=\"top\">scientist</th>\n      <th>F</th>\n      <td>28.0</td>\n    </tr>\n    <tr>\n      <th>M</th>\n      <td>36.0</td>\n    </tr>\n    <tr>\n      <th rowspan=\"2\" valign=\"top\">student</th>\n      <th>F</th>\n      <td>21.0</td>\n    </tr>\n    <tr>\n      <th>M</th>\n      <td>23.0</td>\n    </tr>\n    <tr>\n      <th rowspan=\"2\" valign=\"top\">technician</th>\n      <th>F</th>\n      <td>38.0</td>\n    </tr>\n    <tr>\n      <th>M</th>\n      <td>33.0</td>\n    </tr>\n    <tr>\n      <th rowspan=\"2\" valign=\"top\">writer</th>\n      <th>F</th>\n      <td>38.0</td>\n    </tr>\n    <tr>\n      <th>M</th>\n      <td>35.0</td>\n    </tr>\n  </tbody>\n</table>\n</div>",
      "text/plain": "                      mean\noccupation    gender      \nadministrator F       41.0\n              M       37.0\nartist        F       30.0\n              M       32.0\ndoctor        M       44.0\neducator      F       39.0\n              M       43.0\nengineer      F       30.0\n              M       37.0\nentertainment F       31.0\n              M       29.0\nexecutive     F       44.0\n              M       38.0\nhealthcare    F       40.0\n              M       45.0\nhomemaker     F       34.0\n              M       23.0\nlawyer        F       40.0\n              M       36.0\nlibrarian     F       40.0\n              M       40.0\nmarketing     F       37.0\n              M       38.0\nnone          F       36.0\n              M       19.0\nother         F       35.0\n              M       34.0\nprogrammer    F       32.0\n              M       33.0\nretired       F       70.0\n              M       63.0\nsalesman      F       27.0\n              M       39.0\nscientist     F       28.0\n              M       36.0\nstudent       F       21.0\n              M       23.0\ntechnician    F       38.0\n              M       33.0\nwriter        F       38.0\n              M       35.0"
     },
     "execution_count": 16,
     "metadata": {},
     "output_type": "execute_result"
    }
   ],
   "source": [
    "users.groupby(['occupation', 'gender'])['age'].agg(['mean']).apply(lambda x: round(x))"
   ]
  },
  {
   "cell_type": "markdown",
   "metadata": {},
   "source": [
    "### Step 8.  For each occupation present the percentage of women and men"
   ]
  },
  {
   "cell_type": "code",
   "execution_count": 71,
   "metadata": {},
   "outputs": [
    {
     "data": {
      "text/html": "<div>\n<style scoped>\n    .dataframe tbody tr th:only-of-type {\n        vertical-align: middle;\n    }\n\n    .dataframe tbody tr th {\n        vertical-align: top;\n    }\n\n    .dataframe thead th {\n        text-align: right;\n    }\n</style>\n<table border=\"1\" class=\"dataframe\">\n  <thead>\n    <tr style=\"text-align: right;\">\n      <th></th>\n      <th></th>\n      <th>count</th>\n    </tr>\n    <tr>\n      <th>occupation</th>\n      <th>gender</th>\n      <th></th>\n    </tr>\n  </thead>\n  <tbody>\n    <tr>\n      <th rowspan=\"2\" valign=\"top\">administrator</th>\n      <th>F</th>\n      <td>45.569620</td>\n    </tr>\n    <tr>\n      <th>M</th>\n      <td>54.430380</td>\n    </tr>\n    <tr>\n      <th rowspan=\"2\" valign=\"top\">artist</th>\n      <th>F</th>\n      <td>46.428571</td>\n    </tr>\n    <tr>\n      <th>M</th>\n      <td>53.571429</td>\n    </tr>\n    <tr>\n      <th>doctor</th>\n      <th>M</th>\n      <td>100.000000</td>\n    </tr>\n    <tr>\n      <th rowspan=\"2\" valign=\"top\">educator</th>\n      <th>F</th>\n      <td>27.368421</td>\n    </tr>\n    <tr>\n      <th>M</th>\n      <td>72.631579</td>\n    </tr>\n    <tr>\n      <th rowspan=\"2\" valign=\"top\">engineer</th>\n      <th>F</th>\n      <td>2.985075</td>\n    </tr>\n    <tr>\n      <th>M</th>\n      <td>97.014925</td>\n    </tr>\n    <tr>\n      <th rowspan=\"2\" valign=\"top\">entertainment</th>\n      <th>F</th>\n      <td>11.111111</td>\n    </tr>\n    <tr>\n      <th>M</th>\n      <td>88.888889</td>\n    </tr>\n    <tr>\n      <th rowspan=\"2\" valign=\"top\">executive</th>\n      <th>F</th>\n      <td>9.375000</td>\n    </tr>\n    <tr>\n      <th>M</th>\n      <td>90.625000</td>\n    </tr>\n    <tr>\n      <th rowspan=\"2\" valign=\"top\">healthcare</th>\n      <th>F</th>\n      <td>68.750000</td>\n    </tr>\n    <tr>\n      <th>M</th>\n      <td>31.250000</td>\n    </tr>\n    <tr>\n      <th rowspan=\"2\" valign=\"top\">homemaker</th>\n      <th>F</th>\n      <td>85.714286</td>\n    </tr>\n    <tr>\n      <th>M</th>\n      <td>14.285714</td>\n    </tr>\n    <tr>\n      <th rowspan=\"2\" valign=\"top\">lawyer</th>\n      <th>F</th>\n      <td>16.666667</td>\n    </tr>\n    <tr>\n      <th>M</th>\n      <td>83.333333</td>\n    </tr>\n    <tr>\n      <th rowspan=\"2\" valign=\"top\">librarian</th>\n      <th>F</th>\n      <td>56.862745</td>\n    </tr>\n    <tr>\n      <th>M</th>\n      <td>43.137255</td>\n    </tr>\n    <tr>\n      <th rowspan=\"2\" valign=\"top\">marketing</th>\n      <th>F</th>\n      <td>38.461538</td>\n    </tr>\n    <tr>\n      <th>M</th>\n      <td>61.538462</td>\n    </tr>\n    <tr>\n      <th rowspan=\"2\" valign=\"top\">none</th>\n      <th>F</th>\n      <td>44.444444</td>\n    </tr>\n    <tr>\n      <th>M</th>\n      <td>55.555556</td>\n    </tr>\n    <tr>\n      <th rowspan=\"2\" valign=\"top\">other</th>\n      <th>F</th>\n      <td>34.285714</td>\n    </tr>\n    <tr>\n      <th>M</th>\n      <td>65.714286</td>\n    </tr>\n    <tr>\n      <th rowspan=\"2\" valign=\"top\">programmer</th>\n      <th>F</th>\n      <td>9.090909</td>\n    </tr>\n    <tr>\n      <th>M</th>\n      <td>90.909091</td>\n    </tr>\n    <tr>\n      <th rowspan=\"2\" valign=\"top\">retired</th>\n      <th>F</th>\n      <td>7.142857</td>\n    </tr>\n    <tr>\n      <th>M</th>\n      <td>92.857143</td>\n    </tr>\n    <tr>\n      <th rowspan=\"2\" valign=\"top\">salesman</th>\n      <th>F</th>\n      <td>25.000000</td>\n    </tr>\n    <tr>\n      <th>M</th>\n      <td>75.000000</td>\n    </tr>\n    <tr>\n      <th rowspan=\"2\" valign=\"top\">scientist</th>\n      <th>F</th>\n      <td>9.677419</td>\n    </tr>\n    <tr>\n      <th>M</th>\n      <td>90.322581</td>\n    </tr>\n    <tr>\n      <th rowspan=\"2\" valign=\"top\">student</th>\n      <th>F</th>\n      <td>30.612245</td>\n    </tr>\n    <tr>\n      <th>M</th>\n      <td>69.387755</td>\n    </tr>\n    <tr>\n      <th rowspan=\"2\" valign=\"top\">technician</th>\n      <th>F</th>\n      <td>3.703704</td>\n    </tr>\n    <tr>\n      <th>M</th>\n      <td>96.296296</td>\n    </tr>\n    <tr>\n      <th rowspan=\"2\" valign=\"top\">writer</th>\n      <th>F</th>\n      <td>42.222222</td>\n    </tr>\n    <tr>\n      <th>M</th>\n      <td>57.777778</td>\n    </tr>\n  </tbody>\n</table>\n</div>",
      "text/plain": "                           count\noccupation    gender            \nadministrator F        45.569620\n              M        54.430380\nartist        F        46.428571\n              M        53.571429\ndoctor        M       100.000000\neducator      F        27.368421\n              M        72.631579\nengineer      F         2.985075\n              M        97.014925\nentertainment F        11.111111\n              M        88.888889\nexecutive     F         9.375000\n              M        90.625000\nhealthcare    F        68.750000\n              M        31.250000\nhomemaker     F        85.714286\n              M        14.285714\nlawyer        F        16.666667\n              M        83.333333\nlibrarian     F        56.862745\n              M        43.137255\nmarketing     F        38.461538\n              M        61.538462\nnone          F        44.444444\n              M        55.555556\nother         F        34.285714\n              M        65.714286\nprogrammer    F         9.090909\n              M        90.909091\nretired       F         7.142857\n              M        92.857143\nsalesman      F        25.000000\n              M        75.000000\nscientist     F         9.677419\n              M        90.322581\nstudent       F        30.612245\n              M        69.387755\ntechnician    F         3.703704\n              M        96.296296\nwriter        F        42.222222\n              M        57.777778"
     },
     "metadata": {},
     "output_type": "display_data"
    }
   ],
   "source": [
    "byoccup_gender = users.groupby(['occupation','gender'])\n",
    "occup_gender_count = byoccup_gender.agg(count=pd.NamedAgg(aggfunc='count',column='gender'))\n",
    "\n",
    "occup_count = users.groupby('occupation').agg(count=pd.NamedAgg(aggfunc='count',column='gender'))\n",
    "\n",
    "gender_freq = occup_gender_count.div(occup_count, level='occupation')*100\n",
    "display(gender_freq)"
   ]
  },
  {
   "cell_type": "code",
   "execution_count": 7,
   "metadata": {},
   "outputs": [
    {
     "data": {
      "text/html": "<div>\n<style scoped>\n    .dataframe tbody tr th:only-of-type {\n        vertical-align: middle;\n    }\n\n    .dataframe tbody tr th {\n        vertical-align: top;\n    }\n\n    .dataframe thead th {\n        text-align: right;\n    }\n</style>\n<table border=\"1\" class=\"dataframe\">\n  <thead>\n    <tr style=\"text-align: right;\">\n      <th></th>\n      <th>male_freq</th>\n      <th>female_freq</th>\n    </tr>\n    <tr>\n      <th>occupation</th>\n      <th></th>\n      <th></th>\n    </tr>\n  </thead>\n  <tbody>\n    <tr>\n      <th>doctor</th>\n      <td>100.000000</td>\n      <td>0.000000</td>\n    </tr>\n    <tr>\n      <th>homemaker</th>\n      <td>85.714286</td>\n      <td>14.285714</td>\n    </tr>\n    <tr>\n      <th>healthcare</th>\n      <td>68.750000</td>\n      <td>31.250000</td>\n    </tr>\n    <tr>\n      <th>librarian</th>\n      <td>56.862745</td>\n      <td>43.137255</td>\n    </tr>\n    <tr>\n      <th>artist</th>\n      <td>46.428571</td>\n      <td>53.571429</td>\n    </tr>\n    <tr>\n      <th>administrator</th>\n      <td>45.569620</td>\n      <td>54.430380</td>\n    </tr>\n    <tr>\n      <th>none</th>\n      <td>44.444444</td>\n      <td>55.555556</td>\n    </tr>\n    <tr>\n      <th>writer</th>\n      <td>42.222222</td>\n      <td>57.777778</td>\n    </tr>\n    <tr>\n      <th>marketing</th>\n      <td>38.461538</td>\n      <td>61.538462</td>\n    </tr>\n    <tr>\n      <th>other</th>\n      <td>34.285714</td>\n      <td>65.714286</td>\n    </tr>\n    <tr>\n      <th>student</th>\n      <td>30.612245</td>\n      <td>69.387755</td>\n    </tr>\n    <tr>\n      <th>educator</th>\n      <td>27.368421</td>\n      <td>72.631579</td>\n    </tr>\n    <tr>\n      <th>salesman</th>\n      <td>25.000000</td>\n      <td>75.000000</td>\n    </tr>\n    <tr>\n      <th>lawyer</th>\n      <td>16.666667</td>\n      <td>83.333333</td>\n    </tr>\n    <tr>\n      <th>entertainment</th>\n      <td>11.111111</td>\n      <td>88.888889</td>\n    </tr>\n    <tr>\n      <th>scientist</th>\n      <td>9.677419</td>\n      <td>90.322581</td>\n    </tr>\n    <tr>\n      <th>executive</th>\n      <td>9.375000</td>\n      <td>90.625000</td>\n    </tr>\n    <tr>\n      <th>programmer</th>\n      <td>9.090909</td>\n      <td>90.909091</td>\n    </tr>\n    <tr>\n      <th>retired</th>\n      <td>7.142857</td>\n      <td>92.857143</td>\n    </tr>\n    <tr>\n      <th>technician</th>\n      <td>3.703704</td>\n      <td>96.296296</td>\n    </tr>\n    <tr>\n      <th>engineer</th>\n      <td>2.985075</td>\n      <td>97.014925</td>\n    </tr>\n  </tbody>\n</table>\n</div>",
      "text/plain": "                male_freq  female_freq\noccupation                            \ndoctor         100.000000     0.000000\nhomemaker       85.714286    14.285714\nhealthcare      68.750000    31.250000\nlibrarian       56.862745    43.137255\nartist          46.428571    53.571429\nadministrator   45.569620    54.430380\nnone            44.444444    55.555556\nwriter          42.222222    57.777778\nmarketing       38.461538    61.538462\nother           34.285714    65.714286\nstudent         30.612245    69.387755\neducator        27.368421    72.631579\nsalesman        25.000000    75.000000\nlawyer          16.666667    83.333333\nentertainment   11.111111    88.888889\nscientist        9.677419    90.322581\nexecutive        9.375000    90.625000\nprogrammer       9.090909    90.909091\nretired          7.142857    92.857143\ntechnician       3.703704    96.296296\nengineer         2.985075    97.014925"
     },
     "execution_count": 7,
     "metadata": {},
     "output_type": "execute_result"
    }
   ],
   "source": [
    "#messier way\n",
    "male_percentages = users.groupby(['occupation', 'gender']).count().groupby('occupation').apply(lambda x: x.iloc[0]/(x.iloc[0] + x.iloc[1]) if len(x) > 1 else x.iloc[0]/x.iloc[0])['age'].rename('male_freq').sort_values(ascending=False)*100\n",
    "female_percentages = (100 - male_percentages).rename('female_freq')\n",
    "pd.concat([male_percentages, female_percentages],axis=1)"
   ]
  }
 ],
 "metadata": {
  "kernelspec": {
   "display_name": "Python 2",
   "language": "python",
   "name": "python2"
  },
  "language_info": {
   "codemirror_mode": {
    "name": "ipython",
    "version": 2
   },
   "file_extension": ".py",
   "mimetype": "text/x-python",
   "name": "python",
   "nbconvert_exporter": "python",
   "pygments_lexer": "ipython2",
   "version": "3.7.5"
  }
 },
 "nbformat": 4,
 "nbformat_minor": 0
}