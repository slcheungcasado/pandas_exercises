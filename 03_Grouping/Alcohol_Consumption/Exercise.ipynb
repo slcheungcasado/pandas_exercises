{
 "cells": [
  {
   "cell_type": "markdown",
   "metadata": {},
   "source": [
    "# Ex - GroupBy"
   ]
  },
  {
   "cell_type": "markdown",
   "metadata": {},
   "source": [
    "### Introduction:\n",
    "\n",
    "GroupBy can be summarizes as Split-Apply-Combine.\n",
    "\n",
    "Special thanks to: https://github.com/justmarkham for sharing the dataset and materials.\n",
    "\n",
    "Check out this [Diagram](http://i.imgur.com/yjNkiwL.png)  \n",
    "### Step 1. Import the necessary libraries"
   ]
  },
  {
   "cell_type": "code",
   "execution_count": 1,
   "metadata": {},
   "outputs": [],
   "source": [
    "import pandas as pd\n",
    "import numpy as np"
   ]
  },
  {
   "cell_type": "markdown",
   "metadata": {},
   "source": [
    "### Step 2. Import the dataset from this [address](https://raw.githubusercontent.com/justmarkham/DAT8/master/data/drinks.csv). "
   ]
  },
  {
   "cell_type": "markdown",
   "metadata": {},
   "source": [
    "### Step 3. Assign it to a variable called drinks."
   ]
  },
  {
   "cell_type": "code",
   "execution_count": 2,
   "metadata": {},
   "outputs": [],
   "source": [
    "url = 'https://raw.githubusercontent.com/justmarkham/DAT8/master/data/drinks.csv'\n",
    "drinks = pd.read_csv(url,index_col='country')"
   ]
  },
  {
   "cell_type": "code",
   "execution_count": 3,
   "metadata": {},
   "outputs": [
    {
     "data": {
      "text/html": "<div>\n<style scoped>\n    .dataframe tbody tr th:only-of-type {\n        vertical-align: middle;\n    }\n\n    .dataframe tbody tr th {\n        vertical-align: top;\n    }\n\n    .dataframe thead th {\n        text-align: right;\n    }\n</style>\n<table border=\"1\" class=\"dataframe\">\n  <thead>\n    <tr style=\"text-align: right;\">\n      <th></th>\n      <th>beer_servings</th>\n      <th>spirit_servings</th>\n      <th>wine_servings</th>\n      <th>total_litres_of_pure_alcohol</th>\n      <th>continent</th>\n    </tr>\n    <tr>\n      <th>country</th>\n      <th></th>\n      <th></th>\n      <th></th>\n      <th></th>\n      <th></th>\n    </tr>\n  </thead>\n  <tbody>\n    <tr>\n      <th>Afghanistan</th>\n      <td>0</td>\n      <td>0</td>\n      <td>0</td>\n      <td>0.0</td>\n      <td>AS</td>\n    </tr>\n    <tr>\n      <th>Albania</th>\n      <td>89</td>\n      <td>132</td>\n      <td>54</td>\n      <td>4.9</td>\n      <td>EU</td>\n    </tr>\n    <tr>\n      <th>Algeria</th>\n      <td>25</td>\n      <td>0</td>\n      <td>14</td>\n      <td>0.7</td>\n      <td>AF</td>\n    </tr>\n    <tr>\n      <th>Andorra</th>\n      <td>245</td>\n      <td>138</td>\n      <td>312</td>\n      <td>12.4</td>\n      <td>EU</td>\n    </tr>\n    <tr>\n      <th>Angola</th>\n      <td>217</td>\n      <td>57</td>\n      <td>45</td>\n      <td>5.9</td>\n      <td>AF</td>\n    </tr>\n  </tbody>\n</table>\n</div>",
      "text/plain": "             beer_servings  spirit_servings  wine_servings  \\\ncountry                                                      \nAfghanistan              0                0              0   \nAlbania                 89              132             54   \nAlgeria                 25                0             14   \nAndorra                245              138            312   \nAngola                 217               57             45   \n\n             total_litres_of_pure_alcohol continent  \ncountry                                              \nAfghanistan                           0.0        AS  \nAlbania                               4.9        EU  \nAlgeria                               0.7        AF  \nAndorra                              12.4        EU  \nAngola                                5.9        AF  "
     },
     "execution_count": 3,
     "metadata": {},
     "output_type": "execute_result"
    }
   ],
   "source": [
    "drinks.head()"
   ]
  },
  {
   "cell_type": "markdown",
   "metadata": {},
   "source": [
    "### Step 4. Which continent drinks more beer on average?"
   ]
  },
  {
   "cell_type": "code",
   "execution_count": 4,
   "metadata": {},
   "outputs": [
    {
     "data": {
      "text/plain": "'Namibia'"
     },
     "execution_count": 4,
     "metadata": {},
     "output_type": "execute_result"
    }
   ],
   "source": [
    "drinks.loc[drinks['beer_servings'].idxmax()].name"
   ]
  },
  {
   "cell_type": "code",
   "execution_count": 5,
   "metadata": {},
   "outputs": [
    {
     "data": {
      "text/plain": "continent\nAF     61.471698\nAS     37.045455\nEU    193.777778\nOC     89.687500\nSA    175.083333\nName: beer_servings, dtype: float64"
     },
     "execution_count": 5,
     "metadata": {},
     "output_type": "execute_result"
    }
   ],
   "source": [
    "drinks.groupby('continent').beer_servings.mean()"
   ]
  },
  {
   "cell_type": "markdown",
   "metadata": {},
   "source": [
    "### Step 5. For each continent print the statistics for wine consumption."
   ]
  },
  {
   "cell_type": "code",
   "execution_count": 6,
   "metadata": {},
   "outputs": [
    {
     "data": {
      "text/html": "<div>\n<style scoped>\n    .dataframe tbody tr th:only-of-type {\n        vertical-align: middle;\n    }\n\n    .dataframe tbody tr th {\n        vertical-align: top;\n    }\n\n    .dataframe thead tr th {\n        text-align: left;\n    }\n\n    .dataframe thead tr:last-of-type th {\n        text-align: right;\n    }\n</style>\n<table border=\"1\" class=\"dataframe\">\n  <thead>\n    <tr>\n      <th></th>\n      <th colspan=\"8\" halign=\"left\">beer_servings</th>\n      <th colspan=\"2\" halign=\"left\">spirit_servings</th>\n      <th>...</th>\n      <th colspan=\"2\" halign=\"left\">wine_servings</th>\n      <th colspan=\"8\" halign=\"left\">total_litres_of_pure_alcohol</th>\n    </tr>\n    <tr>\n      <th></th>\n      <th>count</th>\n      <th>mean</th>\n      <th>std</th>\n      <th>min</th>\n      <th>25%</th>\n      <th>50%</th>\n      <th>75%</th>\n      <th>max</th>\n      <th>count</th>\n      <th>mean</th>\n      <th>...</th>\n      <th>75%</th>\n      <th>max</th>\n      <th>count</th>\n      <th>mean</th>\n      <th>std</th>\n      <th>min</th>\n      <th>25%</th>\n      <th>50%</th>\n      <th>75%</th>\n      <th>max</th>\n    </tr>\n    <tr>\n      <th>continent</th>\n      <th></th>\n      <th></th>\n      <th></th>\n      <th></th>\n      <th></th>\n      <th></th>\n      <th></th>\n      <th></th>\n      <th></th>\n      <th></th>\n      <th></th>\n      <th></th>\n      <th></th>\n      <th></th>\n      <th></th>\n      <th></th>\n      <th></th>\n      <th></th>\n      <th></th>\n      <th></th>\n      <th></th>\n    </tr>\n  </thead>\n  <tbody>\n    <tr>\n      <th>AF</th>\n      <td>53.0</td>\n      <td>61.471698</td>\n      <td>80.557816</td>\n      <td>0.0</td>\n      <td>15.00</td>\n      <td>32.0</td>\n      <td>76.00</td>\n      <td>376.0</td>\n      <td>53.0</td>\n      <td>16.339623</td>\n      <td>...</td>\n      <td>13.00</td>\n      <td>233.0</td>\n      <td>53.0</td>\n      <td>3.007547</td>\n      <td>2.647557</td>\n      <td>0.0</td>\n      <td>0.70</td>\n      <td>2.30</td>\n      <td>4.700</td>\n      <td>9.1</td>\n    </tr>\n    <tr>\n      <th>AS</th>\n      <td>44.0</td>\n      <td>37.045455</td>\n      <td>49.469725</td>\n      <td>0.0</td>\n      <td>4.25</td>\n      <td>17.5</td>\n      <td>60.50</td>\n      <td>247.0</td>\n      <td>44.0</td>\n      <td>60.840909</td>\n      <td>...</td>\n      <td>8.00</td>\n      <td>123.0</td>\n      <td>44.0</td>\n      <td>2.170455</td>\n      <td>2.770239</td>\n      <td>0.0</td>\n      <td>0.10</td>\n      <td>1.20</td>\n      <td>2.425</td>\n      <td>11.5</td>\n    </tr>\n    <tr>\n      <th>EU</th>\n      <td>45.0</td>\n      <td>193.777778</td>\n      <td>99.631569</td>\n      <td>0.0</td>\n      <td>127.00</td>\n      <td>219.0</td>\n      <td>270.00</td>\n      <td>361.0</td>\n      <td>45.0</td>\n      <td>132.555556</td>\n      <td>...</td>\n      <td>195.00</td>\n      <td>370.0</td>\n      <td>45.0</td>\n      <td>8.617778</td>\n      <td>3.358455</td>\n      <td>0.0</td>\n      <td>6.60</td>\n      <td>10.00</td>\n      <td>10.900</td>\n      <td>14.4</td>\n    </tr>\n    <tr>\n      <th>OC</th>\n      <td>16.0</td>\n      <td>89.687500</td>\n      <td>96.641412</td>\n      <td>0.0</td>\n      <td>21.00</td>\n      <td>52.5</td>\n      <td>125.75</td>\n      <td>306.0</td>\n      <td>16.0</td>\n      <td>58.437500</td>\n      <td>...</td>\n      <td>23.25</td>\n      <td>212.0</td>\n      <td>16.0</td>\n      <td>3.381250</td>\n      <td>3.345688</td>\n      <td>0.0</td>\n      <td>1.00</td>\n      <td>1.75</td>\n      <td>6.150</td>\n      <td>10.4</td>\n    </tr>\n    <tr>\n      <th>SA</th>\n      <td>12.0</td>\n      <td>175.083333</td>\n      <td>65.242845</td>\n      <td>93.0</td>\n      <td>129.50</td>\n      <td>162.5</td>\n      <td>198.00</td>\n      <td>333.0</td>\n      <td>12.0</td>\n      <td>114.750000</td>\n      <td>...</td>\n      <td>98.50</td>\n      <td>221.0</td>\n      <td>12.0</td>\n      <td>6.308333</td>\n      <td>1.531166</td>\n      <td>3.8</td>\n      <td>5.25</td>\n      <td>6.85</td>\n      <td>7.375</td>\n      <td>8.3</td>\n    </tr>\n  </tbody>\n</table>\n<p>5 rows × 32 columns</p>\n</div>",
      "text/plain": "          beer_servings                                                      \\\n                  count        mean        std   min     25%    50%     75%   \ncontinent                                                                     \nAF                 53.0   61.471698  80.557816   0.0   15.00   32.0   76.00   \nAS                 44.0   37.045455  49.469725   0.0    4.25   17.5   60.50   \nEU                 45.0  193.777778  99.631569   0.0  127.00  219.0  270.00   \nOC                 16.0   89.687500  96.641412   0.0   21.00   52.5  125.75   \nSA                 12.0  175.083333  65.242845  93.0  129.50  162.5  198.00   \n\n                 spirit_servings              ... wine_servings         \\\n             max           count        mean  ...           75%    max   \ncontinent                                     ...                        \nAF         376.0            53.0   16.339623  ...         13.00  233.0   \nAS         247.0            44.0   60.840909  ...          8.00  123.0   \nEU         361.0            45.0  132.555556  ...        195.00  370.0   \nOC         306.0            16.0   58.437500  ...         23.25  212.0   \nSA         333.0            12.0  114.750000  ...         98.50  221.0   \n\n          total_litres_of_pure_alcohol                                        \\\n                                 count      mean       std  min   25%    50%   \ncontinent                                                                      \nAF                                53.0  3.007547  2.647557  0.0  0.70   2.30   \nAS                                44.0  2.170455  2.770239  0.0  0.10   1.20   \nEU                                45.0  8.617778  3.358455  0.0  6.60  10.00   \nOC                                16.0  3.381250  3.345688  0.0  1.00   1.75   \nSA                                12.0  6.308333  1.531166  3.8  5.25   6.85   \n\n                         \n              75%   max  \ncontinent                \nAF          4.700   9.1  \nAS          2.425  11.5  \nEU         10.900  14.4  \nOC          6.150  10.4  \nSA          7.375   8.3  \n\n[5 rows x 32 columns]"
     },
     "execution_count": 6,
     "metadata": {},
     "output_type": "execute_result"
    }
   ],
   "source": [
    "bycontinent = drinks.groupby('continent')\n",
    "bycontinent.describe()"
   ]
  },
  {
   "cell_type": "markdown",
   "metadata": {},
   "source": [
    "### Step 6. Print the mean alcohol consumption per continent for every column"
   ]
  },
  {
   "cell_type": "code",
   "execution_count": 7,
   "metadata": {},
   "outputs": [
    {
     "data": {
      "text/html": "<div>\n<style scoped>\n    .dataframe tbody tr th:only-of-type {\n        vertical-align: middle;\n    }\n\n    .dataframe tbody tr th {\n        vertical-align: top;\n    }\n\n    .dataframe thead th {\n        text-align: right;\n    }\n</style>\n<table border=\"1\" class=\"dataframe\">\n  <thead>\n    <tr style=\"text-align: right;\">\n      <th></th>\n      <th>beer_servings</th>\n      <th>spirit_servings</th>\n      <th>wine_servings</th>\n      <th>total_litres_of_pure_alcohol</th>\n    </tr>\n    <tr>\n      <th>continent</th>\n      <th></th>\n      <th></th>\n      <th></th>\n      <th></th>\n    </tr>\n  </thead>\n  <tbody>\n    <tr>\n      <th>AF</th>\n      <td>61.471698</td>\n      <td>16.339623</td>\n      <td>16.264151</td>\n      <td>3.007547</td>\n    </tr>\n    <tr>\n      <th>AS</th>\n      <td>37.045455</td>\n      <td>60.840909</td>\n      <td>9.068182</td>\n      <td>2.170455</td>\n    </tr>\n    <tr>\n      <th>EU</th>\n      <td>193.777778</td>\n      <td>132.555556</td>\n      <td>142.222222</td>\n      <td>8.617778</td>\n    </tr>\n    <tr>\n      <th>OC</th>\n      <td>89.687500</td>\n      <td>58.437500</td>\n      <td>35.625000</td>\n      <td>3.381250</td>\n    </tr>\n    <tr>\n      <th>SA</th>\n      <td>175.083333</td>\n      <td>114.750000</td>\n      <td>62.416667</td>\n      <td>6.308333</td>\n    </tr>\n  </tbody>\n</table>\n</div>",
      "text/plain": "           beer_servings  spirit_servings  wine_servings  \\\ncontinent                                                  \nAF             61.471698        16.339623      16.264151   \nAS             37.045455        60.840909       9.068182   \nEU            193.777778       132.555556     142.222222   \nOC             89.687500        58.437500      35.625000   \nSA            175.083333       114.750000      62.416667   \n\n           total_litres_of_pure_alcohol  \ncontinent                                \nAF                             3.007547  \nAS                             2.170455  \nEU                             8.617778  \nOC                             3.381250  \nSA                             6.308333  "
     },
     "execution_count": 7,
     "metadata": {},
     "output_type": "execute_result"
    }
   ],
   "source": [
    "bycontinent.mean()"
   ]
  },
  {
   "cell_type": "markdown",
   "metadata": {},
   "source": [
    "### Step 7. Print the median alcohol consumption per continent for every column"
   ]
  },
  {
   "cell_type": "code",
   "execution_count": 8,
   "metadata": {},
   "outputs": [
    {
     "data": {
      "text/html": "<div>\n<style scoped>\n    .dataframe tbody tr th:only-of-type {\n        vertical-align: middle;\n    }\n\n    .dataframe tbody tr th {\n        vertical-align: top;\n    }\n\n    .dataframe thead th {\n        text-align: right;\n    }\n</style>\n<table border=\"1\" class=\"dataframe\">\n  <thead>\n    <tr style=\"text-align: right;\">\n      <th></th>\n      <th>beer_servings</th>\n      <th>spirit_servings</th>\n      <th>wine_servings</th>\n      <th>total_litres_of_pure_alcohol</th>\n    </tr>\n    <tr>\n      <th>continent</th>\n      <th></th>\n      <th></th>\n      <th></th>\n      <th></th>\n    </tr>\n  </thead>\n  <tbody>\n    <tr>\n      <th>AF</th>\n      <td>32.0</td>\n      <td>3.0</td>\n      <td>2.0</td>\n      <td>2.30</td>\n    </tr>\n    <tr>\n      <th>AS</th>\n      <td>17.5</td>\n      <td>16.0</td>\n      <td>1.0</td>\n      <td>1.20</td>\n    </tr>\n    <tr>\n      <th>EU</th>\n      <td>219.0</td>\n      <td>122.0</td>\n      <td>128.0</td>\n      <td>10.00</td>\n    </tr>\n    <tr>\n      <th>OC</th>\n      <td>52.5</td>\n      <td>37.0</td>\n      <td>8.5</td>\n      <td>1.75</td>\n    </tr>\n    <tr>\n      <th>SA</th>\n      <td>162.5</td>\n      <td>108.5</td>\n      <td>12.0</td>\n      <td>6.85</td>\n    </tr>\n  </tbody>\n</table>\n</div>",
      "text/plain": "           beer_servings  spirit_servings  wine_servings  \\\ncontinent                                                  \nAF                  32.0              3.0            2.0   \nAS                  17.5             16.0            1.0   \nEU                 219.0            122.0          128.0   \nOC                  52.5             37.0            8.5   \nSA                 162.5            108.5           12.0   \n\n           total_litres_of_pure_alcohol  \ncontinent                                \nAF                                 2.30  \nAS                                 1.20  \nEU                                10.00  \nOC                                 1.75  \nSA                                 6.85  "
     },
     "execution_count": 8,
     "metadata": {},
     "output_type": "execute_result"
    }
   ],
   "source": [
    "bycontinent.agg(np.median)"
   ]
  },
  {
   "cell_type": "markdown",
   "metadata": {},
   "source": [
    "### Step 8. Print the mean, min and max values for spirit consumption.\n",
    "#### This time output a DataFrame"
   ]
  },
  {
   "cell_type": "code",
   "execution_count": 9,
   "metadata": {},
   "outputs": [
    {
     "data": {
      "text/html": "<div>\n<style scoped>\n    .dataframe tbody tr th:only-of-type {\n        vertical-align: middle;\n    }\n\n    .dataframe tbody tr th {\n        vertical-align: top;\n    }\n\n    .dataframe thead th {\n        text-align: right;\n    }\n</style>\n<table border=\"1\" class=\"dataframe\">\n  <thead>\n    <tr style=\"text-align: right;\">\n      <th></th>\n      <th>mean</th>\n      <th>min</th>\n      <th>max</th>\n    </tr>\n    <tr>\n      <th>continent</th>\n      <th></th>\n      <th></th>\n      <th></th>\n    </tr>\n  </thead>\n  <tbody>\n    <tr>\n      <th>AF</th>\n      <td>16.339623</td>\n      <td>0</td>\n      <td>152</td>\n    </tr>\n    <tr>\n      <th>AS</th>\n      <td>60.840909</td>\n      <td>0</td>\n      <td>326</td>\n    </tr>\n    <tr>\n      <th>EU</th>\n      <td>132.555556</td>\n      <td>0</td>\n      <td>373</td>\n    </tr>\n    <tr>\n      <th>OC</th>\n      <td>58.437500</td>\n      <td>0</td>\n      <td>254</td>\n    </tr>\n    <tr>\n      <th>SA</th>\n      <td>114.750000</td>\n      <td>25</td>\n      <td>302</td>\n    </tr>\n  </tbody>\n</table>\n</div>",
      "text/plain": "                 mean  min  max\ncontinent                      \nAF          16.339623    0  152\nAS          60.840909    0  326\nEU         132.555556    0  373\nOC          58.437500    0  254\nSA         114.750000   25  302"
     },
     "execution_count": 9,
     "metadata": {},
     "output_type": "execute_result"
    }
   ],
   "source": [
    "bycontinent['spirit_servings'].agg(['mean','min','max'])"
   ]
  },
  {
   "cell_type": "code",
   "execution_count": 10,
   "metadata": {},
   "outputs": [
    {
     "data": {
      "text/html": "<div>\n<style scoped>\n    .dataframe tbody tr th:only-of-type {\n        vertical-align: middle;\n    }\n\n    .dataframe tbody tr th {\n        vertical-align: top;\n    }\n\n    .dataframe thead th {\n        text-align: right;\n    }\n</style>\n<table border=\"1\" class=\"dataframe\">\n  <thead>\n    <tr style=\"text-align: right;\">\n      <th></th>\n      <th>max_spirits</th>\n      <th>min_spirits</th>\n      <th>mean_spirits</th>\n    </tr>\n    <tr>\n      <th>continent</th>\n      <th></th>\n      <th></th>\n      <th></th>\n    </tr>\n  </thead>\n  <tbody>\n    <tr>\n      <th>AF</th>\n      <td>152</td>\n      <td>0</td>\n      <td>16.339623</td>\n    </tr>\n    <tr>\n      <th>AS</th>\n      <td>326</td>\n      <td>0</td>\n      <td>60.840909</td>\n    </tr>\n    <tr>\n      <th>EU</th>\n      <td>373</td>\n      <td>0</td>\n      <td>132.555556</td>\n    </tr>\n    <tr>\n      <th>OC</th>\n      <td>254</td>\n      <td>0</td>\n      <td>58.437500</td>\n    </tr>\n    <tr>\n      <th>SA</th>\n      <td>302</td>\n      <td>25</td>\n      <td>114.750000</td>\n    </tr>\n  </tbody>\n</table>\n</div>",
      "text/plain": "           max_spirits  min_spirits  mean_spirits\ncontinent                                        \nAF                 152            0     16.339623\nAS                 326            0     60.840909\nEU                 373            0    132.555556\nOC                 254            0     58.437500\nSA                 302           25    114.750000"
     },
     "execution_count": 10,
     "metadata": {},
     "output_type": "execute_result"
    }
   ],
   "source": [
    "bycontinent.agg(max_spirits=pd.NamedAgg(column='spirit_servings', aggfunc=np.max),min_spirits=pd.NamedAgg(column='spirit_servings', aggfunc=np.min),mean_spirits=pd.NamedAgg(column='spirit_servings', aggfunc=np.mean))"
   ]
  },
  {
   "cell_type": "code",
   "execution_count": 11,
   "metadata": {},
   "outputs": [
    {
     "data": {
      "text/html": "<div>\n<style scoped>\n    .dataframe tbody tr th:only-of-type {\n        vertical-align: middle;\n    }\n\n    .dataframe tbody tr th {\n        vertical-align: top;\n    }\n\n    .dataframe thead th {\n        text-align: right;\n    }\n</style>\n<table border=\"1\" class=\"dataframe\">\n  <thead>\n    <tr style=\"text-align: right;\">\n      <th></th>\n      <th>max_spirits</th>\n      <th>min_spirits</th>\n      <th>mean_spirits</th>\n    </tr>\n    <tr>\n      <th>continent</th>\n      <th></th>\n      <th></th>\n      <th></th>\n    </tr>\n  </thead>\n  <tbody>\n    <tr>\n      <th>AF</th>\n      <td>152</td>\n      <td>0</td>\n      <td>16.339623</td>\n    </tr>\n    <tr>\n      <th>AS</th>\n      <td>326</td>\n      <td>0</td>\n      <td>60.840909</td>\n    </tr>\n    <tr>\n      <th>EU</th>\n      <td>373</td>\n      <td>0</td>\n      <td>132.555556</td>\n    </tr>\n    <tr>\n      <th>OC</th>\n      <td>254</td>\n      <td>0</td>\n      <td>58.437500</td>\n    </tr>\n    <tr>\n      <th>SA</th>\n      <td>302</td>\n      <td>25</td>\n      <td>114.750000</td>\n    </tr>\n  </tbody>\n</table>\n</div>",
      "text/plain": "           max_spirits  min_spirits  mean_spirits\ncontinent                                        \nAF                 152            0     16.339623\nAS                 326            0     60.840909\nEU                 373            0    132.555556\nOC                 254            0     58.437500\nSA                 302           25    114.750000"
     },
     "execution_count": 11,
     "metadata": {},
     "output_type": "execute_result"
    }
   ],
   "source": [
    "bycontinent['spirit_servings'].agg(max_spirits=lambda x: np.max(x),min_spirits=lambda x: np.min(x),mean_spirits=lambda x: np.mean(x)) "
   ]
  },
  {
   "cell_type": "code",
   "execution_count": 12,
   "metadata": {},
   "outputs": [
    {
     "name": "stderr",
     "output_type": "stream",
     "text": "/anaconda3/envs/FTDS/lib/python3.7/site-packages/ipykernel_launcher.py:1: FutureWarning: using a dict on a Series for aggregation\nis deprecated and will be removed in a future version. Use                 named aggregation instead.\n\n    >>> grouper.agg(name_1=func_1, name_2=func_2)\n\n  \"\"\"Entry point for launching an IPython kernel.\n"
    },
    {
     "data": {
      "text/html": "<div>\n<style scoped>\n    .dataframe tbody tr th:only-of-type {\n        vertical-align: middle;\n    }\n\n    .dataframe tbody tr th {\n        vertical-align: top;\n    }\n\n    .dataframe thead th {\n        text-align: right;\n    }\n</style>\n<table border=\"1\" class=\"dataframe\">\n  <thead>\n    <tr style=\"text-align: right;\">\n      <th></th>\n      <th>max_spirits</th>\n      <th>min_spirits</th>\n      <th>mean_spirits</th>\n    </tr>\n    <tr>\n      <th>continent</th>\n      <th></th>\n      <th></th>\n      <th></th>\n    </tr>\n  </thead>\n  <tbody>\n    <tr>\n      <th>AF</th>\n      <td>152</td>\n      <td>0</td>\n      <td>16.339623</td>\n    </tr>\n    <tr>\n      <th>AS</th>\n      <td>326</td>\n      <td>0</td>\n      <td>60.840909</td>\n    </tr>\n    <tr>\n      <th>EU</th>\n      <td>373</td>\n      <td>0</td>\n      <td>132.555556</td>\n    </tr>\n    <tr>\n      <th>OC</th>\n      <td>254</td>\n      <td>0</td>\n      <td>58.437500</td>\n    </tr>\n    <tr>\n      <th>SA</th>\n      <td>302</td>\n      <td>25</td>\n      <td>114.750000</td>\n    </tr>\n  </tbody>\n</table>\n</div>",
      "text/plain": "           max_spirits  min_spirits  mean_spirits\ncontinent                                        \nAF                 152            0     16.339623\nAS                 326            0     60.840909\nEU                 373            0    132.555556\nOC                 254            0     58.437500\nSA                 302           25    114.750000"
     },
     "execution_count": 12,
     "metadata": {},
     "output_type": "execute_result"
    }
   ],
   "source": [
    "bycontinent['spirit_servings'].agg({'max_spirits':lambda x: np.max(x),'min_spirits':lambda x: np.min(x),'mean_spirits':lambda x: np.mean(x)}) #warning deprecated to use dicts"
   ]
  }
 ],
 "metadata": {
  "kernelspec": {
   "display_name": "Python 2",
   "language": "python",
   "name": "python2"
  },
  "language_info": {
   "codemirror_mode": {
    "name": "ipython",
    "version": 2
   },
   "file_extension": ".py",
   "mimetype": "text/x-python",
   "name": "python",
   "nbconvert_exporter": "python",
   "pygments_lexer": "ipython2",
   "version": "3.7.5"
  }
 },
 "nbformat": 4,
 "nbformat_minor": 0
}